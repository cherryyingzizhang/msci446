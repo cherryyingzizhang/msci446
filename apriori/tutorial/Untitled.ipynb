{
 "cells": [
  {
   "cell_type": "code",
   "execution_count": 1,
   "metadata": {},
   "outputs": [
    {
     "name": "stdout",
     "output_type": "stream",
     "text": [
      "\n",
      "/anaconda3/lib/python36.zip\n",
      "/anaconda3/lib/python3.6\n",
      "/anaconda3/lib/python3.6/lib-dynload\n",
      "/anaconda3/lib/python3.6/site-packages\n",
      "/anaconda3/lib/python3.6/site-packages/aeosa\n",
      "/anaconda3/lib/python3.6/site-packages/IPython/extensions\n",
      "/Users/xiang_li/.ipython\n"
     ]
    }
   ],
   "source": [
    "import sys\n",
    "for p in sys.path:\n",
    "    print(p)"
   ]
  },
  {
   "cell_type": "code",
   "execution_count": null,
   "metadata": {},
   "outputs": [],
   "source": []
  }
 ],
 "metadata": {
  "kernelspec": {
   "display_name": "Python 3",
   "language": "python",
   "name": "python3"
  },
  "language_info": {
   "codemirror_mode": {
    "name": "ipython",
    "version": 3
   },
   "file_extension": ".py",
   "mimetype": "text/x-python",
   "name": "python",
   "nbconvert_exporter": "python",
   "pygments_lexer": "ipython3",
   "version": "3.6.5"
  }
 },
 "nbformat": 4,
 "nbformat_minor": 2
}
