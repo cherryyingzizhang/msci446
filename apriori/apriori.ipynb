{
 "cells": [
  {
   "cell_type": "code",
   "execution_count": null,
   "metadata": {},
   "outputs": [],
   "source": [
    "# Import necessary python libraries\n",
    "import pandas as pd\n",
    "import csv\n",
    "from mlxtend.preprocessing import TransactionEncoder\n",
    "from mlxtend.frequent_patterns import apriori, association_rules\n",
    "\n",
    "# Read in CSV file into an array of arrays\n",
    "# Make sure that your data is structured like the data given in tutorial\n",
    "dataset = []\n",
    "with open('binnedAdaptive.csv') as f:\n",
    "\treader = csv.reader(f)\n",
    "\tfor row in reader:\n",
    "\t\tdataset.append(row)\n",
    "# for row in dataset: \n",
    "# \tprint(row)\n",
    "\n",
    "# Transform your data for the apriori algorithm\n",
    "oht = TransactionEncoder()\n",
    "oht_ary = oht.fit(dataset).transform(dataset)\n",
    "df = pd.DataFrame(oht_ary, columns=oht.columns_)\n",
    "# print(df)\n",
    "\n",
    "# frequent_itemsets = apriori(df, min_support=0.2, use_colnames=True)\n",
    "# print(frequent_itemsets)\n",
    "\n",
    "# rules = association_rules(frequent_itemsets, metric=\"confidence\", min_threshold=0.7)\n",
    "# print(rules[['antecedents', 'consequents', 'support', 'confidence']])\n"
   ]
  },
  {
   "cell_type": "code",
   "execution_count": null,
   "metadata": {},
   "outputs": [],
   "source": [
    "frequent_itemsets = apriori(df, min_support=0.15, use_colnames=True)\n",
    "print(frequent_itemsets)\n",
    "frequent_itemsets.to_csv('/Users/xiang_li/Desktop/support015.csv')"
   ]
  },
  {
   "cell_type": "code",
   "execution_count": null,
   "metadata": {},
   "outputs": [],
   "source": [
    "rules = association_rules(frequent_itemsets, metric=\"confidence\", min_threshold=0.8)\n",
    "d=rules[['antecedents', 'consequents', 'support', 'confidence']]\n",
    "print(d)\n",
    "d.to_csv('/Users/xiang_li/Desktop/support015_conf08.csv')"
   ]
  },
  {
   "cell_type": "code",
   "execution_count": null,
   "metadata": {},
   "outputs": [],
   "source": []
  },
  {
   "cell_type": "code",
   "execution_count": null,
   "metadata": {},
   "outputs": [],
   "source": []
  }
 ],
 "metadata": {
  "kernelspec": {
   "display_name": "Python 3",
   "language": "python",
   "name": "python3"
  },
  "language_info": {
   "codemirror_mode": {
    "name": "ipython",
    "version": 3
   },
   "file_extension": ".py",
   "mimetype": "text/x-python",
   "name": "python",
   "nbconvert_exporter": "python",
   "pygments_lexer": "ipython3",
   "version": "3.6.5"
  }
 },
 "nbformat": 4,
 "nbformat_minor": 2
}
